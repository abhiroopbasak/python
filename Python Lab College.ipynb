{
 "cells": [
  {
   "cell_type": "code",
   "execution_count": null,
   "metadata": {},
   "outputs": [],
   "source": []
  },
  {
   "cell_type": "code",
   "execution_count": 8,
   "metadata": {},
   "outputs": [
    {
     "name": "stdout",
     "output_type": "stream",
     "text": [
      "Name : Ajay \n",
      "Salary: 60000\n",
      "Name : Rahul \n",
      "Salary: 70000\n",
      "2\n"
     ]
    }
   ],
   "source": [
    "class employee:\n",
    "    emp_num=0\n",
    "    def __init__(self,name,salary):\n",
    "        self.name=name\n",
    "        self.salary=salary\n",
    "        employee.emp_num+=1\n",
    "        \n",
    "    def display(self):\n",
    "        print(\"A total of {1} employees work here\".format(emp_num))\n",
    "        \n",
    "    def displayemp(self):\n",
    "        print(\"Name : {0} \\nSalary: {1}\".format(self.name,self.salary))\n",
    "        \n",
    "class Manager(employee):\n",
    "    def __init__(self,name,salary):\n",
    "        employee.__init__(self,name,salary)\n",
    "        \n",
    "        \n",
    "emp1=employee(\"Ajay\",60000)\n",
    "emp2=employee(\"Rahul\",70000)\n",
    "emp1.displayemp()\n",
    "emp2.displayemp()\n",
    "print(employee.emp_num)"
   ]
  },
  {
   "cell_type": "code",
   "execution_count": 1,
   "metadata": {},
   "outputs": [],
   "source": [
    "class person:\n",
    "    sl_no=0\n",
    "    def __init__(self,name,surname):\n",
    "        self.name=name\n",
    "        self.surname=surname\n",
    "        person.sl_no+=1\n",
    "    def display_details(self):\n",
    "        print(\"Nmae: {0}\\nSurname\")\n",
    "    "
   ]
  },
  {
   "cell_type": "code",
   "execution_count": null,
   "metadata": {},
   "outputs": [],
   "source": []
  },
  {
   "cell_type": "code",
   "execution_count": 28,
   "metadata": {},
   "outputs": [
    {
     "name": "stdout",
     "output_type": "stream",
     "text": [
      "Dictionary created in the range of 1 and 10 is {1: 1, 2: 3, 3: 5, 4: 7, 5: 9}\n"
     ]
    }
   ],
   "source": [
    "##Write a python program to create a dictionary of odd numbers in the range of 1 to 10.\n",
    "\n",
    "num=10\n",
    "mydict={}\n",
    "i=1\n",
    "for x in range(1,num+1):\n",
    "    if(x%2!=0):\n",
    "        mydict[i]=x\n",
    "        i+=1\n",
    "print(\"Dictionary created in the range of {0} and {1} is {2}\".format(1,10,mydict))"
   ]
  },
  {
   "cell_type": "code",
   "execution_count": 9,
   "metadata": {},
   "outputs": [
    {
     "name": "stdout",
     "output_type": "stream",
     "text": [
      " Dictionary of metres to centimeters: {1: 100, 2: 200, 3: 300, 4: 400, 5: 500, 6: 600, 7: 700, 8: 800, 9: 900} \n",
      " Dictionary of centimetres to meters: {1: 0.01, 2: 0.02, 3: 0.03, 4: 0.04, 5: 0.05, 6: 0.06, 7: 0.07, 8: 0.08, 9: 0.09}\n"
     ]
    }
   ],
   "source": [
    "##Creating 2 dictionaries, one storing m to cm and the other storing cm to m\n",
    "\n",
    "mtocm={}\n",
    "cmtom={}\n",
    "for i in range(1,10):\n",
    "    mtocm[i]=i*100\n",
    "    cmtom[i]=i/100\n",
    "print(\" Dictionary of metres to centimeters: {0} \\n Dictionary of centimetres to meters: {1}\".format(mtocm,cmtom))"
   ]
  },
  {
   "cell_type": "code",
   "execution_count": 29,
   "metadata": {},
   "outputs": [
    {
     "name": "stdout",
     "output_type": "stream",
     "text": [
      "Enter the radius: 5\n",
      "Enter the radius: 4\n",
      "Enter the radius: 8\n",
      "Enter the radius: 7\n",
      "Enter the radius: 5\n",
      "The radius circumference dictionary is as {5: 31.41592653589793, 4: 25.132741228718345, 8: 50.26548245743669, 7: 43.982297150257104}\n"
     ]
    }
   ],
   "source": [
    "##User input radius, display circumference \n",
    "import math\n",
    "\n",
    "rtoc={}\n",
    "for i in range(1,6):\n",
    "    r=int(input(\"Enter the radius: \"))\n",
    "    rtoc[r]=2*math.pi*r\n",
    "print(\"The radius circumference dictionary is as {0}\".format(rtoc))"
   ]
  },
  {
   "cell_type": "code",
   "execution_count": 39,
   "metadata": {},
   "outputs": [
    {
     "name": "stdout",
     "output_type": "stream",
     "text": [
      "Enter the term:10\n",
      "Dictionary is {0: 0, 1: 1, 2: 1, 3: 2, 4: 3, 5: 5, 6: 8, 7: 13, 8: 21, 9: 34, 10: 55}\n",
      "Fibonacci n = 55\n"
     ]
    }
   ],
   "source": [
    "##Fibonacci numbers using dictionary\n",
    "\n",
    "mydict={0:0,1:1}\n",
    "dict2={0:0,1:1}\n",
    "\n",
    "def fibo(n):\n",
    "    if n not in mydict:\n",
    "        num=fibo(n-1)+fibo(n-2)\n",
    "        mydict[n]=num\n",
    "    return mydict[n]\n",
    "\n",
    "def printfibo(n):\n",
    "    for i in range(2,n+1):\n",
    "        dict2[i]=fibo(i)\n",
    "    return dict2\n",
    "    \n",
    "n=int(input(\"Enter the term:\"))\n",
    "print(\"Dictionary is {0}\".format(printfibo(n)))\n",
    "print(\"Fibonacci n = {0}\".format(fibo(n)))"
   ]
  },
  {
   "cell_type": "code",
   "execution_count": 32,
   "metadata": {},
   "outputs": [
    {
     "name": "stdout",
     "output_type": "stream",
     "text": [
      "Name : Ajay \n",
      "Marks of subject1: 80 \n",
      "Marks of subject2: 89 \n",
      "Marks of subject3: 96\n",
      "Name : Rahul \n",
      "Marks of subject1: 78 \n",
      "Marks of subject2: 97 \n",
      "Marks of subject3: 88\n",
      "Name : Alex \n",
      "Marks of subject1: 90 \n",
      "Marks of subject2: 87 \n",
      "Marks of subject3: 99\n"
     ]
    }
   ],
   "source": [
    "##Class to store names and marks and calculate average\n",
    "\n",
    "class student:\n",
    "    def __init__(self,name,mark1,mark2,mark3):\n",
    "        self.name=name\n",
    "        self.mark1=mark1\n",
    "        self.mark2=mark2\n",
    "        self.mark3=mark3\n",
    "        \n",
    "        \n",
    "    def display(self):\n",
    "        print(\"Name : {0} \\nMarks of subject1: {1} \\nMarks of subject2: {2} \\nMarks of subject3: {3}\".format(self.name,self.mark1,self.mark2,self.mark3))\n",
    "        \n",
    "stu1=student(\"Ajay\",80,89,96)\n",
    "stu2=student(\"Rahul\",78,97,88)\n",
    "stu3=student(\"Alex\",90,87,99)\n",
    "stu1.display()\n",
    "stu2.display()\n",
    "stu3.display()"
   ]
  },
  {
   "cell_type": "code",
   "execution_count": 27,
   "metadata": {},
   "outputs": [
    {
     "name": "stdout",
     "output_type": "stream",
     "text": [
      "Enter the number of elements5\n",
      "Please enter a list\n",
      "4\n",
      "2\n",
      "1\n",
      "9\n",
      "7\n",
      "Sorted list is [1, 2, 4, 7, 9]\n"
     ]
    }
   ],
   "source": [
    "#sort list elements\n",
    "\n",
    "num=[]\n",
    "n=int(input(\"Enter the number of elements\"))\n",
    "print(\"Please enter a list\")\n",
    "for i in range(0,n):\n",
    "    ele=int(input())\n",
    "    num.append(ele)\n",
    "num.sort()\n",
    "print(\"Sorted list is {0}\".format(num))"
   ]
  },
  {
   "cell_type": "code",
   "execution_count": null,
   "metadata": {},
   "outputs": [],
   "source": [
    "1\n"
   ]
  }
 ],
 "metadata": {
  "kernelspec": {
   "display_name": "Python 3",
   "language": "python",
   "name": "python3"
  },
  "language_info": {
   "codemirror_mode": {
    "name": "ipython",
    "version": 3
   },
   "file_extension": ".py",
   "mimetype": "text/x-python",
   "name": "python",
   "nbconvert_exporter": "python",
   "pygments_lexer": "ipython3",
   "version": "3.7.3"
  }
 },
 "nbformat": 4,
 "nbformat_minor": 2
}
